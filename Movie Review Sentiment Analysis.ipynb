{
 "cells": [
  {
   "cell_type": "markdown",
   "metadata": {},
   "source": [
    "# Movie Review Sentiment Analysis Using (ANN, DNN with LSTM)"
   ]
  },
  {
   "cell_type": "markdown",
   "metadata": {},
   "source": [
    "### Importing Important Liabraries"
   ]
  },
  {
   "cell_type": "code",
   "execution_count": 51,
   "metadata": {},
   "outputs": [],
   "source": [
    "# to parse HTML contents\n",
    "from bs4 import BeautifulSoup\n",
    "\n",
    "# for numerical analysis\n",
    "import numpy as np \n",
    "# to store and process in a dataframe\n",
    "import pandas as pd \n",
    "\n",
    "# for ploting graphs\n",
    "import matplotlib.pyplot as plt\n",
    "# advancec ploting\n",
    "import seaborn as sns\n",
    "# to create word clouds\n",
    "from wordcloud import WordCloud, STOPWORDS \n",
    "\n",
    "# To encode values\n",
    "from sklearn.preprocessing import LabelEncoder\n",
    "# Convert a collection of text documents to a matrix of token counts\n",
    "from sklearn.feature_extraction.text import CountVectorizer\n",
    "# confusion matrix\n",
    "from sklearn.metrics import confusion_matrix\n",
    "# train test split\n",
    "from sklearn.model_selection import train_test_split\n",
    "\n",
    "# for deep learning \n",
    "import tensorflow as tf\n",
    "# to tokenize text\n",
    "from tensorflow.keras.preprocessing.text import Tokenizer\n",
    "# to pad sequence \n",
    "from tensorflow.keras.preprocessing.sequence import pad_sequences\n",
    "from tensorflow.keras.layers import Dense,Dropout,Embedding,LSTM,Conv1D,GlobalMaxPooling1D,Flatten,MaxPooling1D,GRU,SpatialDropout1D,Bidirectional\n",
    "from tensorflow.keras.optimizers import Adam"
   ]
  },
  {
   "cell_type": "code",
   "execution_count": 2,
   "metadata": {},
   "outputs": [
    {
     "data": {
      "text/html": [
       "<div>\n",
       "<style scoped>\n",
       "    .dataframe tbody tr th:only-of-type {\n",
       "        vertical-align: middle;\n",
       "    }\n",
       "\n",
       "    .dataframe tbody tr th {\n",
       "        vertical-align: top;\n",
       "    }\n",
       "\n",
       "    .dataframe thead th {\n",
       "        text-align: right;\n",
       "    }\n",
       "</style>\n",
       "<table border=\"1\" class=\"dataframe\">\n",
       "  <thead>\n",
       "    <tr style=\"text-align: right;\">\n",
       "      <th></th>\n",
       "      <th>review</th>\n",
       "      <th>sentiment</th>\n",
       "    </tr>\n",
       "  </thead>\n",
       "  <tbody>\n",
       "    <tr>\n",
       "      <td>0</td>\n",
       "      <td>One of the other reviewers has mentioned that ...</td>\n",
       "      <td>positive</td>\n",
       "    </tr>\n",
       "    <tr>\n",
       "      <td>1</td>\n",
       "      <td>A wonderful little production. &lt;br /&gt;&lt;br /&gt;The...</td>\n",
       "      <td>positive</td>\n",
       "    </tr>\n",
       "    <tr>\n",
       "      <td>2</td>\n",
       "      <td>I thought this was a wonderful way to spend ti...</td>\n",
       "      <td>positive</td>\n",
       "    </tr>\n",
       "    <tr>\n",
       "      <td>3</td>\n",
       "      <td>Basically there's a family where a little boy ...</td>\n",
       "      <td>negative</td>\n",
       "    </tr>\n",
       "    <tr>\n",
       "      <td>4</td>\n",
       "      <td>Petter Mattei's \"Love in the Time of Money\" is...</td>\n",
       "      <td>positive</td>\n",
       "    </tr>\n",
       "  </tbody>\n",
       "</table>\n",
       "</div>"
      ],
      "text/plain": [
       "                                              review sentiment\n",
       "0  One of the other reviewers has mentioned that ...  positive\n",
       "1  A wonderful little production. <br /><br />The...  positive\n",
       "2  I thought this was a wonderful way to spend ti...  positive\n",
       "3  Basically there's a family where a little boy ...  negative\n",
       "4  Petter Mattei's \"Love in the Time of Money\" is...  positive"
      ]
     },
     "execution_count": 2,
     "metadata": {},
     "output_type": "execute_result"
    }
   ],
   "source": [
    "## Importing Database from files\n",
    "df_movie = pd.read_csv('Data/IMDB Dataset.csv');\n",
    "\n",
    "# Displaying some records from database\n",
    "df_movie.head()"
   ]
  },
  {
   "cell_type": "code",
   "execution_count": 3,
   "metadata": {},
   "outputs": [
    {
     "data": {
      "text/plain": [
       "(50000, 2)"
      ]
     },
     "execution_count": 3,
     "metadata": {},
     "output_type": "execute_result"
    }
   ],
   "source": [
    "# Shape of database. Showing rows and columns\n",
    "df_movie.shape"
   ]
  },
  {
   "cell_type": "code",
   "execution_count": 4,
   "metadata": {},
   "outputs": [
    {
     "data": {
      "text/html": [
       "<div>\n",
       "<style scoped>\n",
       "    .dataframe tbody tr th:only-of-type {\n",
       "        vertical-align: middle;\n",
       "    }\n",
       "\n",
       "    .dataframe tbody tr th {\n",
       "        vertical-align: top;\n",
       "    }\n",
       "\n",
       "    .dataframe thead th {\n",
       "        text-align: right;\n",
       "    }\n",
       "</style>\n",
       "<table border=\"1\" class=\"dataframe\">\n",
       "  <thead>\n",
       "    <tr style=\"text-align: right;\">\n",
       "      <th></th>\n",
       "      <th>review</th>\n",
       "      <th>sentiment</th>\n",
       "    </tr>\n",
       "  </thead>\n",
       "  <tbody>\n",
       "    <tr>\n",
       "      <td>count</td>\n",
       "      <td>50000</td>\n",
       "      <td>50000</td>\n",
       "    </tr>\n",
       "    <tr>\n",
       "      <td>unique</td>\n",
       "      <td>49582</td>\n",
       "      <td>2</td>\n",
       "    </tr>\n",
       "    <tr>\n",
       "      <td>top</td>\n",
       "      <td>Loved today's show!!! It was a variety and not...</td>\n",
       "      <td>negative</td>\n",
       "    </tr>\n",
       "    <tr>\n",
       "      <td>freq</td>\n",
       "      <td>5</td>\n",
       "      <td>25000</td>\n",
       "    </tr>\n",
       "  </tbody>\n",
       "</table>\n",
       "</div>"
      ],
      "text/plain": [
       "                                                   review sentiment\n",
       "count                                               50000     50000\n",
       "unique                                              49582         2\n",
       "top     Loved today's show!!! It was a variety and not...  negative\n",
       "freq                                                    5     25000"
      ]
     },
     "execution_count": 4,
     "metadata": {},
     "output_type": "execute_result"
    }
   ],
   "source": [
    "# Description of databse\n",
    "df_movie.describe()"
   ]
  },
  {
   "cell_type": "code",
   "execution_count": 5,
   "metadata": {},
   "outputs": [
    {
     "data": {
      "text/plain": [
       "negative    25000\n",
       "positive    25000\n",
       "Name: sentiment, dtype: int64"
      ]
     },
     "execution_count": 5,
     "metadata": {},
     "output_type": "execute_result"
    }
   ],
   "source": [
    "# How many values of negetive and positive\n",
    "df_movie['sentiment'].value_counts()"
   ]
  },
  {
   "cell_type": "code",
   "execution_count": 6,
   "metadata": {},
   "outputs": [],
   "source": [
    "# Dividing the data into train and test data frame\n",
    "test_df = df_movie.drop('sentiment', axis=1)\n",
    "train_df = df_movie"
   ]
  },
  {
   "cell_type": "code",
   "execution_count": 7,
   "metadata": {},
   "outputs": [
    {
     "data": {
      "text/html": [
       "<div>\n",
       "<style scoped>\n",
       "    .dataframe tbody tr th:only-of-type {\n",
       "        vertical-align: middle;\n",
       "    }\n",
       "\n",
       "    .dataframe tbody tr th {\n",
       "        vertical-align: top;\n",
       "    }\n",
       "\n",
       "    .dataframe thead th {\n",
       "        text-align: right;\n",
       "    }\n",
       "</style>\n",
       "<table border=\"1\" class=\"dataframe\">\n",
       "  <thead>\n",
       "    <tr style=\"text-align: right;\">\n",
       "      <th></th>\n",
       "      <th>review</th>\n",
       "      <th>sentiment</th>\n",
       "    </tr>\n",
       "  </thead>\n",
       "  <tbody>\n",
       "    <tr>\n",
       "      <td>0</td>\n",
       "      <td>One of the other reviewers has mentioned that ...</td>\n",
       "      <td>positive</td>\n",
       "    </tr>\n",
       "    <tr>\n",
       "      <td>1</td>\n",
       "      <td>A wonderful little production. &lt;br /&gt;&lt;br /&gt;The...</td>\n",
       "      <td>positive</td>\n",
       "    </tr>\n",
       "    <tr>\n",
       "      <td>2</td>\n",
       "      <td>I thought this was a wonderful way to spend ti...</td>\n",
       "      <td>positive</td>\n",
       "    </tr>\n",
       "    <tr>\n",
       "      <td>3</td>\n",
       "      <td>Basically there's a family where a little boy ...</td>\n",
       "      <td>negative</td>\n",
       "    </tr>\n",
       "    <tr>\n",
       "      <td>4</td>\n",
       "      <td>Petter Mattei's \"Love in the Time of Money\" is...</td>\n",
       "      <td>positive</td>\n",
       "    </tr>\n",
       "    <tr>\n",
       "      <td>...</td>\n",
       "      <td>...</td>\n",
       "      <td>...</td>\n",
       "    </tr>\n",
       "    <tr>\n",
       "      <td>49995</td>\n",
       "      <td>I thought this movie did a down right good job...</td>\n",
       "      <td>positive</td>\n",
       "    </tr>\n",
       "    <tr>\n",
       "      <td>49996</td>\n",
       "      <td>Bad plot, bad dialogue, bad acting, idiotic di...</td>\n",
       "      <td>negative</td>\n",
       "    </tr>\n",
       "    <tr>\n",
       "      <td>49997</td>\n",
       "      <td>I am a Catholic taught in parochial elementary...</td>\n",
       "      <td>negative</td>\n",
       "    </tr>\n",
       "    <tr>\n",
       "      <td>49998</td>\n",
       "      <td>I'm going to have to disagree with the previou...</td>\n",
       "      <td>negative</td>\n",
       "    </tr>\n",
       "    <tr>\n",
       "      <td>49999</td>\n",
       "      <td>No one expects the Star Trek movies to be high...</td>\n",
       "      <td>negative</td>\n",
       "    </tr>\n",
       "  </tbody>\n",
       "</table>\n",
       "<p>50000 rows × 2 columns</p>\n",
       "</div>"
      ],
      "text/plain": [
       "                                                  review sentiment\n",
       "0      One of the other reviewers has mentioned that ...  positive\n",
       "1      A wonderful little production. <br /><br />The...  positive\n",
       "2      I thought this was a wonderful way to spend ti...  positive\n",
       "3      Basically there's a family where a little boy ...  negative\n",
       "4      Petter Mattei's \"Love in the Time of Money\" is...  positive\n",
       "...                                                  ...       ...\n",
       "49995  I thought this movie did a down right good job...  positive\n",
       "49996  Bad plot, bad dialogue, bad acting, idiotic di...  negative\n",
       "49997  I am a Catholic taught in parochial elementary...  negative\n",
       "49998  I'm going to have to disagree with the previou...  negative\n",
       "49999  No one expects the Star Trek movies to be high...  negative\n",
       "\n",
       "[50000 rows x 2 columns]"
      ]
     },
     "execution_count": 7,
     "metadata": {},
     "output_type": "execute_result"
    }
   ],
   "source": [
    "# Getting train data columns\n",
    "train_df"
   ]
  },
  {
   "cell_type": "code",
   "execution_count": 8,
   "metadata": {},
   "outputs": [
    {
     "data": {
      "text/html": [
       "<div>\n",
       "<style scoped>\n",
       "    .dataframe tbody tr th:only-of-type {\n",
       "        vertical-align: middle;\n",
       "    }\n",
       "\n",
       "    .dataframe tbody tr th {\n",
       "        vertical-align: top;\n",
       "    }\n",
       "\n",
       "    .dataframe thead th {\n",
       "        text-align: right;\n",
       "    }\n",
       "</style>\n",
       "<table border=\"1\" class=\"dataframe\">\n",
       "  <thead>\n",
       "    <tr style=\"text-align: right;\">\n",
       "      <th></th>\n",
       "      <th>review</th>\n",
       "    </tr>\n",
       "  </thead>\n",
       "  <tbody>\n",
       "    <tr>\n",
       "      <td>0</td>\n",
       "      <td>One of the other reviewers has mentioned that ...</td>\n",
       "    </tr>\n",
       "    <tr>\n",
       "      <td>1</td>\n",
       "      <td>A wonderful little production. &lt;br /&gt;&lt;br /&gt;The...</td>\n",
       "    </tr>\n",
       "    <tr>\n",
       "      <td>2</td>\n",
       "      <td>I thought this was a wonderful way to spend ti...</td>\n",
       "    </tr>\n",
       "    <tr>\n",
       "      <td>3</td>\n",
       "      <td>Basically there's a family where a little boy ...</td>\n",
       "    </tr>\n",
       "    <tr>\n",
       "      <td>4</td>\n",
       "      <td>Petter Mattei's \"Love in the Time of Money\" is...</td>\n",
       "    </tr>\n",
       "    <tr>\n",
       "      <td>...</td>\n",
       "      <td>...</td>\n",
       "    </tr>\n",
       "    <tr>\n",
       "      <td>49995</td>\n",
       "      <td>I thought this movie did a down right good job...</td>\n",
       "    </tr>\n",
       "    <tr>\n",
       "      <td>49996</td>\n",
       "      <td>Bad plot, bad dialogue, bad acting, idiotic di...</td>\n",
       "    </tr>\n",
       "    <tr>\n",
       "      <td>49997</td>\n",
       "      <td>I am a Catholic taught in parochial elementary...</td>\n",
       "    </tr>\n",
       "    <tr>\n",
       "      <td>49998</td>\n",
       "      <td>I'm going to have to disagree with the previou...</td>\n",
       "    </tr>\n",
       "    <tr>\n",
       "      <td>49999</td>\n",
       "      <td>No one expects the Star Trek movies to be high...</td>\n",
       "    </tr>\n",
       "  </tbody>\n",
       "</table>\n",
       "<p>50000 rows × 1 columns</p>\n",
       "</div>"
      ],
      "text/plain": [
       "                                                  review\n",
       "0      One of the other reviewers has mentioned that ...\n",
       "1      A wonderful little production. <br /><br />The...\n",
       "2      I thought this was a wonderful way to spend ti...\n",
       "3      Basically there's a family where a little boy ...\n",
       "4      Petter Mattei's \"Love in the Time of Money\" is...\n",
       "...                                                  ...\n",
       "49995  I thought this movie did a down right good job...\n",
       "49996  Bad plot, bad dialogue, bad acting, idiotic di...\n",
       "49997  I am a Catholic taught in parochial elementary...\n",
       "49998  I'm going to have to disagree with the previou...\n",
       "49999  No one expects the Star Trek movies to be high...\n",
       "\n",
       "[50000 rows x 1 columns]"
      ]
     },
     "execution_count": 8,
     "metadata": {},
     "output_type": "execute_result"
    }
   ],
   "source": [
    "# Getting test data columns\n",
    "test_df"
   ]
  },
  {
   "cell_type": "code",
   "execution_count": 9,
   "metadata": {},
   "outputs": [],
   "source": [
    "# Spliting test database for \n",
    "final_test_df = test_df[40000:]"
   ]
  },
  {
   "cell_type": "code",
   "execution_count": 10,
   "metadata": {},
   "outputs": [
    {
     "data": {
      "text/html": [
       "<div>\n",
       "<style scoped>\n",
       "    .dataframe tbody tr th:only-of-type {\n",
       "        vertical-align: middle;\n",
       "    }\n",
       "\n",
       "    .dataframe tbody tr th {\n",
       "        vertical-align: top;\n",
       "    }\n",
       "\n",
       "    .dataframe thead th {\n",
       "        text-align: right;\n",
       "    }\n",
       "</style>\n",
       "<table border=\"1\" class=\"dataframe\">\n",
       "  <thead>\n",
       "    <tr style=\"text-align: right;\">\n",
       "      <th></th>\n",
       "      <th>review</th>\n",
       "    </tr>\n",
       "  </thead>\n",
       "  <tbody>\n",
       "    <tr>\n",
       "      <td>40000</td>\n",
       "      <td>First off I want to say that I lean liberal on...</td>\n",
       "    </tr>\n",
       "    <tr>\n",
       "      <td>40001</td>\n",
       "      <td>I was excited to see a sitcom that would hopef...</td>\n",
       "    </tr>\n",
       "    <tr>\n",
       "      <td>40002</td>\n",
       "      <td>When you look at the cover and read stuff abou...</td>\n",
       "    </tr>\n",
       "    <tr>\n",
       "      <td>40003</td>\n",
       "      <td>Like many others, I counted on the appearance ...</td>\n",
       "    </tr>\n",
       "    <tr>\n",
       "      <td>40004</td>\n",
       "      <td>This movie was on t.v the other day, and I did...</td>\n",
       "    </tr>\n",
       "    <tr>\n",
       "      <td>...</td>\n",
       "      <td>...</td>\n",
       "    </tr>\n",
       "    <tr>\n",
       "      <td>49995</td>\n",
       "      <td>I thought this movie did a down right good job...</td>\n",
       "    </tr>\n",
       "    <tr>\n",
       "      <td>49996</td>\n",
       "      <td>Bad plot, bad dialogue, bad acting, idiotic di...</td>\n",
       "    </tr>\n",
       "    <tr>\n",
       "      <td>49997</td>\n",
       "      <td>I am a Catholic taught in parochial elementary...</td>\n",
       "    </tr>\n",
       "    <tr>\n",
       "      <td>49998</td>\n",
       "      <td>I'm going to have to disagree with the previou...</td>\n",
       "    </tr>\n",
       "    <tr>\n",
       "      <td>49999</td>\n",
       "      <td>No one expects the Star Trek movies to be high...</td>\n",
       "    </tr>\n",
       "  </tbody>\n",
       "</table>\n",
       "<p>10000 rows × 1 columns</p>\n",
       "</div>"
      ],
      "text/plain": [
       "                                                  review\n",
       "40000  First off I want to say that I lean liberal on...\n",
       "40001  I was excited to see a sitcom that would hopef...\n",
       "40002  When you look at the cover and read stuff abou...\n",
       "40003  Like many others, I counted on the appearance ...\n",
       "40004  This movie was on t.v the other day, and I did...\n",
       "...                                                  ...\n",
       "49995  I thought this movie did a down right good job...\n",
       "49996  Bad plot, bad dialogue, bad acting, idiotic di...\n",
       "49997  I am a Catholic taught in parochial elementary...\n",
       "49998  I'm going to have to disagree with the previou...\n",
       "49999  No one expects the Star Trek movies to be high...\n",
       "\n",
       "[10000 rows x 1 columns]"
      ]
     },
     "execution_count": 10,
     "metadata": {},
     "output_type": "execute_result"
    }
   ],
   "source": [
    "final_test_df"
   ]
  },
  {
   "cell_type": "code",
   "execution_count": 11,
   "metadata": {},
   "outputs": [],
   "source": [
    "# Splitting Train data for training and validation\n",
    "final_train_df = train_df[:40000]"
   ]
  },
  {
   "cell_type": "code",
   "execution_count": 12,
   "metadata": {},
   "outputs": [
    {
     "data": {
      "text/plain": [
       "(40000, 2)"
      ]
     },
     "execution_count": 12,
     "metadata": {},
     "output_type": "execute_result"
    }
   ],
   "source": [
    "# Training Data Shape\n",
    "final_train_df.shape"
   ]
  },
  {
   "cell_type": "code",
   "execution_count": 13,
   "metadata": {},
   "outputs": [
    {
     "data": {
      "text/plain": [
       "(10000, 1)"
      ]
     },
     "execution_count": 13,
     "metadata": {},
     "output_type": "execute_result"
    }
   ],
   "source": [
    "# Testing Data Shape\n",
    "final_test_df.shape"
   ]
  },
  {
   "cell_type": "code",
   "execution_count": 14,
   "metadata": {},
   "outputs": [],
   "source": [
    "# converting dataframe to csv dataset\n",
    "final_test_df.to_csv('Data/testData.csv', index=False )"
   ]
  },
  {
   "cell_type": "code",
   "execution_count": 15,
   "metadata": {},
   "outputs": [
    {
     "data": {
      "text/html": [
       "<div>\n",
       "<style scoped>\n",
       "    .dataframe tbody tr th:only-of-type {\n",
       "        vertical-align: middle;\n",
       "    }\n",
       "\n",
       "    .dataframe tbody tr th {\n",
       "        vertical-align: top;\n",
       "    }\n",
       "\n",
       "    .dataframe thead th {\n",
       "        text-align: right;\n",
       "    }\n",
       "</style>\n",
       "<table border=\"1\" class=\"dataframe\">\n",
       "  <thead>\n",
       "    <tr style=\"text-align: right;\">\n",
       "      <th></th>\n",
       "      <th>review</th>\n",
       "    </tr>\n",
       "  </thead>\n",
       "  <tbody>\n",
       "    <tr>\n",
       "      <td>0</td>\n",
       "      <td>First off I want to say that I lean liberal on...</td>\n",
       "    </tr>\n",
       "    <tr>\n",
       "      <td>1</td>\n",
       "      <td>I was excited to see a sitcom that would hopef...</td>\n",
       "    </tr>\n",
       "    <tr>\n",
       "      <td>2</td>\n",
       "      <td>When you look at the cover and read stuff abou...</td>\n",
       "    </tr>\n",
       "    <tr>\n",
       "      <td>3</td>\n",
       "      <td>Like many others, I counted on the appearance ...</td>\n",
       "    </tr>\n",
       "    <tr>\n",
       "      <td>4</td>\n",
       "      <td>This movie was on t.v the other day, and I did...</td>\n",
       "    </tr>\n",
       "  </tbody>\n",
       "</table>\n",
       "</div>"
      ],
      "text/plain": [
       "                                              review\n",
       "0  First off I want to say that I lean liberal on...\n",
       "1  I was excited to see a sitcom that would hopef...\n",
       "2  When you look at the cover and read stuff abou...\n",
       "3  Like many others, I counted on the appearance ...\n",
       "4  This movie was on t.v the other day, and I did..."
      ]
     },
     "execution_count": 15,
     "metadata": {},
     "output_type": "execute_result"
    }
   ],
   "source": [
    "testData = pd.read_csv('Data/testData.csv')\n",
    "testData.head()"
   ]
  },
  {
   "cell_type": "code",
   "execution_count": 16,
   "metadata": {},
   "outputs": [
    {
     "data": {
      "text/plain": [
       "negative    20007\n",
       "positive    19993\n",
       "Name: sentiment, dtype: int64"
      ]
     },
     "execution_count": 16,
     "metadata": {},
     "output_type": "execute_result"
    }
   ],
   "source": [
    "# Getting train data values of negetive and positive\n",
    "final_train_df['sentiment'].value_counts()"
   ]
  },
  {
   "cell_type": "code",
   "execution_count": 17,
   "metadata": {},
   "outputs": [],
   "source": [
    "# Importing and initalising LabelEncoder\n",
    "from sklearn.preprocessing import LabelEncoder\n",
    "le = LabelEncoder()"
   ]
  },
  {
   "cell_type": "code",
   "execution_count": 18,
   "metadata": {},
   "outputs": [],
   "source": [
    "y = final_train_df['sentiment'].values"
   ]
  },
  {
   "cell_type": "code",
   "execution_count": 19,
   "metadata": {},
   "outputs": [
    {
     "data": {
      "text/plain": [
       "array(['positive', 'positive', 'positive', ..., 'positive', 'negative',\n",
       "       'negative'], dtype=object)"
      ]
     },
     "execution_count": 19,
     "metadata": {},
     "output_type": "execute_result"
    }
   ],
   "source": [
    "y"
   ]
  },
  {
   "cell_type": "code",
   "execution_count": 20,
   "metadata": {},
   "outputs": [],
   "source": [
    "# processing sentiment values\n",
    "y = le.fit_transform(y)"
   ]
  },
  {
   "cell_type": "code",
   "execution_count": 21,
   "metadata": {},
   "outputs": [
    {
     "data": {
      "text/plain": [
       "array([1, 1, 1, ..., 1, 0, 0])"
      ]
     },
     "execution_count": 21,
     "metadata": {},
     "output_type": "execute_result"
    }
   ],
   "source": [
    "y"
   ]
  },
  {
   "cell_type": "code",
   "execution_count": 22,
   "metadata": {},
   "outputs": [
    {
     "data": {
      "text/plain": [
       "0        One of the other reviewers has mentioned that ...\n",
       "1        A wonderful little production. <br /><br />The...\n",
       "2        I thought this was a wonderful way to spend ti...\n",
       "3        Basically there's a family where a little boy ...\n",
       "4        Petter Mattei's \"Love in the Time of Money\" is...\n",
       "                               ...                        \n",
       "39995    This was a marvelously funny comedy with a gre...\n",
       "39996    There is no plot. There are no central charact...\n",
       "39997    This show is awesome! I love all the actors! I...\n",
       "39998    The fact that this movie has been entitled to ...\n",
       "39999    I have to confess that I am severely disappoin...\n",
       "Name: review, Length: 40000, dtype: object"
      ]
     },
     "execution_count": 22,
     "metadata": {},
     "output_type": "execute_result"
    }
   ],
   "source": [
    "final_train_df['review']"
   ]
  },
  {
   "cell_type": "markdown",
   "metadata": {},
   "source": [
    "### Importing Pre Processing Liabraries"
   ]
  },
  {
   "cell_type": "code",
   "execution_count": 23,
   "metadata": {},
   "outputs": [],
   "source": [
    "import re\n",
    "from nltk.corpus import stopwords\n",
    "from nltk.stem import PorterStemmer"
   ]
  },
  {
   "cell_type": "code",
   "execution_count": 24,
   "metadata": {},
   "outputs": [],
   "source": [
    "stop = stopwords.words('english')\n",
    "ps = PorterStemmer()"
   ]
  },
  {
   "cell_type": "code",
   "execution_count": 25,
   "metadata": {},
   "outputs": [],
   "source": [
    "def clean_text(sample):\n",
    "    sample = sample.lower()\n",
    "    sample = sample.replace(\"<br /><br />\", \" \")\n",
    "    sample = re.sub(\"[^a-zA-Z ]+\", \" \", sample)\n",
    "    \n",
    "    sample = sample.split()\n",
    "    sample = [ps.stem(s) for s in sample if s not in stop]\n",
    "    \n",
    "    sample = \" \".join(sample)\n",
    "    \n",
    "    return sample"
   ]
  },
  {
   "cell_type": "code",
   "execution_count": 26,
   "metadata": {},
   "outputs": [
    {
     "data": {
      "text/plain": [
       "'Phil the Alien is one of those quirky films where the humour is based around the oddness of everything rather than actual punchlines.<br /><br />At first it was very odd and pretty funny but as the movie progressed I didn\\'t find the jokes or oddness funny anymore.<br /><br />Its a low budget film (thats never a problem in itself), there were some pretty interesting characters, but eventually I just lost interest.<br /><br />I imagine this film would appeal to a stoner who is currently partaking.<br /><br />For something similar but better try \"Brother from another planet\"'"
      ]
     },
     "execution_count": 26,
     "metadata": {},
     "output_type": "execute_result"
    }
   ],
   "source": [
    "df_movie['review'][10]"
   ]
  },
  {
   "cell_type": "code",
   "execution_count": 27,
   "metadata": {},
   "outputs": [
    {
     "data": {
      "text/plain": [
       "'phil alien one quirki film humour base around odd everyth rather actual punchlin first odd pretti funni movi progress find joke odd funni anymor low budget film that never problem pretti interest charact eventu lost interest imagin film would appeal stoner current partak someth similar better tri brother anoth planet'"
      ]
     },
     "execution_count": 27,
     "metadata": {},
     "output_type": "execute_result"
    }
   ],
   "source": [
    "clean_text(final_train_df['review'][10])"
   ]
  },
  {
   "cell_type": "code",
   "execution_count": 28,
   "metadata": {},
   "outputs": [
    {
     "name": "stderr",
     "output_type": "stream",
     "text": [
      "//anaconda3/envs/learn-env/lib/python3.6/site-packages/ipykernel_launcher.py:1: SettingWithCopyWarning: \n",
      "A value is trying to be set on a copy of a slice from a DataFrame.\n",
      "Try using .loc[row_indexer,col_indexer] = value instead\n",
      "\n",
      "See the caveats in the documentation: http://pandas.pydata.org/pandas-docs/stable/user_guide/indexing.html#returning-a-view-versus-a-copy\n",
      "  \"\"\"Entry point for launching an IPython kernel.\n"
     ]
    }
   ],
   "source": [
    "final_train_df['cleaned_review'] = final_train_df['review'].apply(clean_text)"
   ]
  },
  {
   "cell_type": "code",
   "execution_count": 29,
   "metadata": {},
   "outputs": [
    {
     "data": {
      "text/html": [
       "<div>\n",
       "<style scoped>\n",
       "    .dataframe tbody tr th:only-of-type {\n",
       "        vertical-align: middle;\n",
       "    }\n",
       "\n",
       "    .dataframe tbody tr th {\n",
       "        vertical-align: top;\n",
       "    }\n",
       "\n",
       "    .dataframe thead th {\n",
       "        text-align: right;\n",
       "    }\n",
       "</style>\n",
       "<table border=\"1\" class=\"dataframe\">\n",
       "  <thead>\n",
       "    <tr style=\"text-align: right;\">\n",
       "      <th></th>\n",
       "      <th>review</th>\n",
       "      <th>sentiment</th>\n",
       "      <th>cleaned_review</th>\n",
       "    </tr>\n",
       "  </thead>\n",
       "  <tbody>\n",
       "    <tr>\n",
       "      <td>0</td>\n",
       "      <td>One of the other reviewers has mentioned that ...</td>\n",
       "      <td>positive</td>\n",
       "      <td>one review mention watch oz episod hook right ...</td>\n",
       "    </tr>\n",
       "    <tr>\n",
       "      <td>1</td>\n",
       "      <td>A wonderful little production. &lt;br /&gt;&lt;br /&gt;The...</td>\n",
       "      <td>positive</td>\n",
       "      <td>wonder littl product film techniqu unassum old...</td>\n",
       "    </tr>\n",
       "    <tr>\n",
       "      <td>2</td>\n",
       "      <td>I thought this was a wonderful way to spend ti...</td>\n",
       "      <td>positive</td>\n",
       "      <td>thought wonder way spend time hot summer weeke...</td>\n",
       "    </tr>\n",
       "    <tr>\n",
       "      <td>3</td>\n",
       "      <td>Basically there's a family where a little boy ...</td>\n",
       "      <td>negative</td>\n",
       "      <td>basic famili littl boy jake think zombi closet...</td>\n",
       "    </tr>\n",
       "    <tr>\n",
       "      <td>4</td>\n",
       "      <td>Petter Mattei's \"Love in the Time of Money\" is...</td>\n",
       "      <td>positive</td>\n",
       "      <td>petter mattei love time money visual stun film...</td>\n",
       "    </tr>\n",
       "  </tbody>\n",
       "</table>\n",
       "</div>"
      ],
      "text/plain": [
       "                                              review sentiment  \\\n",
       "0  One of the other reviewers has mentioned that ...  positive   \n",
       "1  A wonderful little production. <br /><br />The...  positive   \n",
       "2  I thought this was a wonderful way to spend ti...  positive   \n",
       "3  Basically there's a family where a little boy ...  negative   \n",
       "4  Petter Mattei's \"Love in the Time of Money\" is...  positive   \n",
       "\n",
       "                                      cleaned_review  \n",
       "0  one review mention watch oz episod hook right ...  \n",
       "1  wonder littl product film techniqu unassum old...  \n",
       "2  thought wonder way spend time hot summer weeke...  \n",
       "3  basic famili littl boy jake think zombi closet...  \n",
       "4  petter mattei love time money visual stun film...  "
      ]
     },
     "execution_count": 29,
     "metadata": {},
     "output_type": "execute_result"
    }
   ],
   "source": [
    "final_train_df.head()"
   ]
  },
  {
   "cell_type": "code",
   "execution_count": 30,
   "metadata": {},
   "outputs": [],
   "source": [
    "corpus = final_train_df['cleaned_review'].values"
   ]
  },
  {
   "cell_type": "code",
   "execution_count": 31,
   "metadata": {},
   "outputs": [],
   "source": [
    "from sklearn.feature_extraction.text import CountVectorizer, TfidfTransformer"
   ]
  },
  {
   "cell_type": "code",
   "execution_count": 32,
   "metadata": {},
   "outputs": [],
   "source": [
    "cvec = CountVectorizer(max_df = 0.5, max_features=50000)"
   ]
  },
  {
   "cell_type": "code",
   "execution_count": 33,
   "metadata": {},
   "outputs": [],
   "source": [
    "X = cvec.fit_transform(corpus)"
   ]
  },
  {
   "cell_type": "code",
   "execution_count": 34,
   "metadata": {},
   "outputs": [
    {
     "name": "stdout",
     "output_type": "stream",
     "text": [
      "  (0, 33335)\t1\n",
      "  (0, 26705)\t1\n",
      "  (0, 47453)\t3\n",
      "  (0, 29816)\t6\n",
      "  (0, 13180)\t2\n",
      "  (0, 19376)\t1\n",
      "  (0, 33482)\t2\n",
      "  (0, 13460)\t1\n",
      "  (0, 17785)\t1\n",
      "  (0, 14317)\t2\n",
      "  (0, 42400)\t1\n",
      "  (0, 40071)\t2\n",
      "  (0, 6186)\t1\n",
      "  (0, 45094)\t1\n",
      "  (0, 35176)\t1\n",
      "  (0, 46769)\t4\n",
      "  (0, 36145)\t1\n",
      "  (0, 48709)\t2\n",
      "  (0, 16022)\t1\n",
      "  (0, 43960)\t1\n",
      "  (0, 36892)\t4\n",
      "  (0, 13724)\t1\n",
      "  (0, 18253)\t1\n",
      "  (0, 42763)\t1\n",
      "  (0, 32028)\t1\n",
      "  :\t:\n",
      "  (0, 38267)\t1\n",
      "  (0, 28561)\t1\n",
      "  (0, 20936)\t2\n",
      "  (0, 23154)\t1\n",
      "  (0, 29445)\t1\n",
      "  (0, 15698)\t2\n",
      "  (0, 47710)\t1\n",
      "  (0, 25856)\t1\n",
      "  (0, 26912)\t1\n",
      "  (0, 8388)\t1\n",
      "  (0, 44155)\t1\n",
      "  (0, 5105)\t1\n",
      "  (0, 23951)\t1\n",
      "  (0, 39957)\t1\n",
      "  (0, 37524)\t1\n",
      "  (0, 13557)\t1\n",
      "  (0, 26274)\t1\n",
      "  (0, 4559)\t1\n",
      "  (0, 9021)\t1\n",
      "  (0, 44767)\t1\n",
      "  (0, 46646)\t1\n",
      "  (0, 42216)\t1\n",
      "  (0, 43290)\t1\n",
      "  (0, 10533)\t1\n",
      "  (0, 37093)\t1\n"
     ]
    }
   ],
   "source": [
    "print(X[0])"
   ]
  },
  {
   "cell_type": "code",
   "execution_count": 35,
   "metadata": {},
   "outputs": [],
   "source": [
    "#Initialising TFIDF transformer\n",
    "tfidf = TfidfTransformer()"
   ]
  },
  {
   "cell_type": "code",
   "execution_count": 36,
   "metadata": {},
   "outputs": [
    {
     "name": "stdout",
     "output_type": "stream",
     "text": [
      "  (0, 48799)\t0.026173377325104455\n",
      "  (0, 48709)\t0.09211540883939487\n",
      "  (0, 47710)\t0.02694568611724924\n",
      "  (0, 47453)\t0.07402836482305311\n",
      "  (0, 46769)\t0.21552554614669464\n",
      "  (0, 46646)\t0.04431344214723159\n",
      "  (0, 45894)\t0.03521639454429318\n",
      "  (0, 45094)\t0.1042966684603418\n",
      "  (0, 44767)\t0.07613008307397072\n",
      "  (0, 44155)\t0.03778527961251583\n",
      "  (0, 43960)\t0.06496701430439099\n",
      "  (0, 43290)\t0.05046377769530096\n",
      "  (0, 42763)\t0.09717098420012206\n",
      "  (0, 42400)\t0.02987461068839155\n",
      "  (0, 42216)\t0.06731625767169813\n",
      "  (0, 41621)\t0.059728837917542875\n",
      "  (0, 40771)\t0.07022121668431439\n",
      "  (0, 40071)\t0.15303583096068427\n",
      "  (0, 39957)\t0.05576807737486982\n",
      "  (0, 39425)\t0.05323477339889361\n",
      "  (0, 39368)\t0.07184309439586294\n",
      "  (0, 38267)\t0.07498502707637711\n",
      "  (0, 37524)\t0.0614595472330187\n",
      "  (0, 37093)\t0.0489313553578405\n",
      "  (0, 36892)\t0.12490763422669125\n",
      "  :\t:\n",
      "  (0, 11200)\t0.048770300147981525\n",
      "  (0, 10685)\t0.04580354050374655\n",
      "  (0, 10671)\t0.049938032938431715\n",
      "  (0, 10533)\t0.08031038131522436\n",
      "  (0, 10520)\t0.0667938696202192\n",
      "  (0, 10075)\t0.07859759430773446\n",
      "  (0, 9021)\t0.06937302676655512\n",
      "  (0, 8390)\t0.04461007819984248\n",
      "  (0, 8388)\t0.05447876273281266\n",
      "  (0, 8287)\t0.10525699461372928\n",
      "  (0, 8018)\t0.0667938696202192\n",
      "  (0, 7564)\t0.05478384282370089\n",
      "  (0, 7224)\t0.07280408836615304\n",
      "  (0, 6635)\t0.04100911110908821\n",
      "  (0, 6186)\t0.06305113324902534\n",
      "  (0, 5105)\t0.0833318865306376\n",
      "  (0, 4559)\t0.040743611519953024\n",
      "  (0, 3472)\t0.08212580843664762\n",
      "  (0, 3227)\t0.042906620608379575\n",
      "  (0, 2839)\t0.10326886395682712\n",
      "  (0, 2727)\t0.03856542917634159\n",
      "  (0, 2364)\t0.0575658360574837\n",
      "  (0, 860)\t0.09377611479398142\n",
      "  (0, 795)\t0.08230016946933623\n",
      "  (0, 324)\t0.09497380502219499\n"
     ]
    }
   ],
   "source": [
    "X = tfidf.fit_transform(X)\n",
    "print(X[0])"
   ]
  },
  {
   "cell_type": "code",
   "execution_count": 37,
   "metadata": {},
   "outputs": [
    {
     "data": {
      "text/plain": [
       "(40000, 50000)"
      ]
     },
     "execution_count": 37,
     "metadata": {},
     "output_type": "execute_result"
    }
   ],
   "source": [
    "X.shape"
   ]
  },
  {
   "cell_type": "code",
   "execution_count": 38,
   "metadata": {},
   "outputs": [
    {
     "data": {
      "text/plain": [
       "(40000,)"
      ]
     },
     "execution_count": 38,
     "metadata": {},
     "output_type": "execute_result"
    }
   ],
   "source": [
    "y.shape"
   ]
  },
  {
   "cell_type": "markdown",
   "metadata": {},
   "source": [
    "## Artificial Nueral Network"
   ]
  },
  {
   "cell_type": "code",
   "execution_count": 39,
   "metadata": {},
   "outputs": [],
   "source": [
    "import tensorflow as tf\n",
    "from tensorflow.keras import models\n",
    "from tensorflow.keras.layers import Dense"
   ]
  },
  {
   "cell_type": "code",
   "execution_count": 40,
   "metadata": {},
   "outputs": [],
   "source": [
    "model = models.Sequential()\n",
    "model.add( Dense(16, activation = \"relu\", input_shape = (X.shape[1],)))\n",
    "model.add( Dense(16, activation = \"relu\"))\n",
    "model.add( Dense(1, activation='sigmoid'))"
   ]
  },
  {
   "cell_type": "code",
   "execution_count": 41,
   "metadata": {},
   "outputs": [
    {
     "name": "stdout",
     "output_type": "stream",
     "text": [
      "Model: \"sequential\"\n",
      "_________________________________________________________________\n",
      "Layer (type)                 Output Shape              Param #   \n",
      "=================================================================\n",
      "dense (Dense)                (None, 16)                800016    \n",
      "_________________________________________________________________\n",
      "dense_1 (Dense)              (None, 16)                272       \n",
      "_________________________________________________________________\n",
      "dense_2 (Dense)              (None, 1)                 17        \n",
      "=================================================================\n",
      "Total params: 800,305\n",
      "Trainable params: 800,305\n",
      "Non-trainable params: 0\n",
      "_________________________________________________________________\n"
     ]
    }
   ],
   "source": [
    "model.summary()"
   ]
  },
  {
   "cell_type": "code",
   "execution_count": 42,
   "metadata": {},
   "outputs": [],
   "source": [
    "model.compile(optimizer='rmsprop', loss='binary_crossentropy', metrics = ['accuracy'])"
   ]
  },
  {
   "cell_type": "code",
   "execution_count": 43,
   "metadata": {},
   "outputs": [],
   "source": [
    "X_val = X[:5000]\n",
    "X_train = X[5000:]\n",
    "\n",
    "y_val = y[:5000]\n",
    "y_train = y[5000:]"
   ]
  },
  {
   "cell_type": "code",
   "execution_count": 44,
   "metadata": {},
   "outputs": [
    {
     "data": {
      "text/plain": [
       "((35000, 50000), (35000,))"
      ]
     },
     "execution_count": 44,
     "metadata": {},
     "output_type": "execute_result"
    }
   ],
   "source": [
    "X_train.shape, y_train.shape "
   ]
  },
  {
   "cell_type": "code",
   "execution_count": 45,
   "metadata": {},
   "outputs": [
    {
     "name": "stdout",
     "output_type": "stream",
     "text": [
      "Epoch 1/15\n",
      "274/274 [==============================] - 17s 63ms/step - loss: 0.4342 - accuracy: 0.8597 - val_loss: 0.2574 - val_accuracy: 0.8988\n",
      "Epoch 2/15\n",
      "274/274 [==============================] - 13s 49ms/step - loss: 0.2071 - accuracy: 0.9184 - val_loss: 0.2422 - val_accuracy: 0.8986\n",
      "Epoch 3/15\n",
      "274/274 [==============================] - 12s 45ms/step - loss: 0.1645 - accuracy: 0.9378 - val_loss: 0.2562 - val_accuracy: 0.9012\n",
      "Epoch 4/15\n",
      "274/274 [==============================] - 11s 42ms/step - loss: 0.1392 - accuracy: 0.9482 - val_loss: 0.2696 - val_accuracy: 0.8986\n",
      "Epoch 5/15\n",
      "274/274 [==============================] - 12s 42ms/step - loss: 0.1223 - accuracy: 0.9549 - val_loss: 0.2866 - val_accuracy: 0.8940\n",
      "Epoch 6/15\n",
      "274/274 [==============================] - 12s 43ms/step - loss: 0.1103 - accuracy: 0.9611 - val_loss: 0.3017 - val_accuracy: 0.8930\n",
      "Epoch 7/15\n",
      "274/274 [==============================] - 10s 36ms/step - loss: 0.0985 - accuracy: 0.9647 - val_loss: 0.3219 - val_accuracy: 0.8888\n",
      "Epoch 8/15\n",
      "274/274 [==============================] - 13s 47ms/step - loss: 0.0895 - accuracy: 0.9687 - val_loss: 0.3416 - val_accuracy: 0.8826\n",
      "Epoch 9/15\n",
      "274/274 [==============================] - 14s 53ms/step - loss: 0.0810 - accuracy: 0.9724 - val_loss: 0.3553 - val_accuracy: 0.8842\n",
      "Epoch 10/15\n",
      "274/274 [==============================] - 14s 49ms/step - loss: 0.0732 - accuracy: 0.9749 - val_loss: 0.3723 - val_accuracy: 0.8820\n",
      "Epoch 11/15\n",
      "274/274 [==============================] - 14s 49ms/step - loss: 0.0655 - accuracy: 0.9774 - val_loss: 0.3968 - val_accuracy: 0.8804\n",
      "Epoch 12/15\n",
      "274/274 [==============================] - 12s 42ms/step - loss: 0.0585 - accuracy: 0.9807 - val_loss: 0.4206 - val_accuracy: 0.8760\n",
      "Epoch 13/15\n",
      "274/274 [==============================] - 13s 49ms/step - loss: 0.0522 - accuracy: 0.9830 - val_loss: 0.4487 - val_accuracy: 0.8750\n",
      "Epoch 14/15\n",
      "274/274 [==============================] - 12s 43ms/step - loss: 0.0466 - accuracy: 0.9849 - val_loss: 0.4683 - val_accuracy: 0.8718\n",
      "Epoch 15/15\n",
      "274/274 [==============================] - 13s 46ms/step - loss: 0.0413 - accuracy: 0.9866 - val_loss: 0.5017 - val_accuracy: 0.8708\n"
     ]
    }
   ],
   "source": [
    "hist = model.fit(X_train.todense(), y_train, batch_size=128, epochs=15, validation_data=(X_val.todense(), y_val))"
   ]
  },
  {
   "cell_type": "markdown",
   "metadata": {},
   "source": [
    "### Visualization of Model"
   ]
  },
  {
   "cell_type": "code",
   "execution_count": 46,
   "metadata": {},
   "outputs": [
    {
     "data": {
      "image/png": "[encoded data removed]",
      "text/plain": [
       "<Figure size 432x288 with 1 Axes>"
      ]
     },
     "metadata": {
      "needs_background": "light"
     },
     "output_type": "display_data"
    }
   ],
   "source": [
    "plt.plot(hist.history['loss'], label='Loss (training data)')\n",
    "plt.plot(hist.history['val_loss'], label='Loss (validation data)')\n",
    "plt.ylabel('Loss')\n",
    "plt.xlabel('Epoch')\n",
    "plt.legend(loc='upper right')\n",
    "plt.show()"
   ]
  },
  {
   "cell_type": "code",
   "execution_count": 47,
   "metadata": {},
   "outputs": [
    {
     "data": {
      "image/png": "[encoded data removed]",
      "text/plain": [
       "<Figure size 432x288 with 1 Axes>"
      ]
     },
     "metadata": {
      "needs_background": "light"
     },
     "output_type": "display_data"
    }
   ],
   "source": [
    "plt.plot(hist.history['accuracy'], label='Accuracy (training data)')\n",
    "plt.plot(hist.history['val_accuracy'], label='Accuracy (validation data)')\n",
    "plt.ylabel('Loss')\n",
    "plt.xlabel('Epoch')\n",
    "plt.legend(loc='upper right')\n",
    "plt.show()"
   ]
  },
  {
   "cell_type": "code",
   "execution_count": 48,
   "metadata": {},
   "outputs": [
    {
     "name": "stdout",
     "output_type": "stream",
     "text": [
      "157/157 [==============================] - 1s 4ms/step - loss: 0.5017 - accuracy: 0.8708\n"
     ]
    },
    {
     "data": {
      "text/plain": [
       "[0.501707136631012, 0.8708000183105469]"
      ]
     },
     "execution_count": 48,
     "metadata": {},
     "output_type": "execute_result"
    }
   ],
   "source": [
    "# Eveluating Model\n",
    "model.evaluate(X_val.todense(), y_val)"
   ]
  },
  {
   "cell_type": "markdown",
   "metadata": {},
   "source": [
    "## LSTM with DNN"
   ]
  },
  {
   "cell_type": "code",
   "execution_count": 50,
   "metadata": {},
   "outputs": [
    {
     "data": {
      "text/html": [
       "<div>\n",
       "<style scoped>\n",
       "    .dataframe tbody tr th:only-of-type {\n",
       "        vertical-align: middle;\n",
       "    }\n",
       "\n",
       "    .dataframe tbody tr th {\n",
       "        vertical-align: top;\n",
       "    }\n",
       "\n",
       "    .dataframe thead th {\n",
       "        text-align: right;\n",
       "    }\n",
       "</style>\n",
       "<table border=\"1\" class=\"dataframe\">\n",
       "  <thead>\n",
       "    <tr style=\"text-align: right;\">\n",
       "      <th></th>\n",
       "      <th>review</th>\n",
       "      <th>sentiment</th>\n",
       "    </tr>\n",
       "  </thead>\n",
       "  <tbody>\n",
       "    <tr>\n",
       "      <td>0</td>\n",
       "      <td>One of the other reviewers has mentioned that ...</td>\n",
       "      <td>positive</td>\n",
       "    </tr>\n",
       "    <tr>\n",
       "      <td>1</td>\n",
       "      <td>A wonderful little production. &lt;br /&gt;&lt;br /&gt;The...</td>\n",
       "      <td>positive</td>\n",
       "    </tr>\n",
       "    <tr>\n",
       "      <td>2</td>\n",
       "      <td>I thought this was a wonderful way to spend ti...</td>\n",
       "      <td>positive</td>\n",
       "    </tr>\n",
       "    <tr>\n",
       "      <td>3</td>\n",
       "      <td>Basically there's a family where a little boy ...</td>\n",
       "      <td>negative</td>\n",
       "    </tr>\n",
       "    <tr>\n",
       "      <td>4</td>\n",
       "      <td>Petter Mattei's \"Love in the Time of Money\" is...</td>\n",
       "      <td>positive</td>\n",
       "    </tr>\n",
       "  </tbody>\n",
       "</table>\n",
       "</div>"
      ],
      "text/plain": [
       "                                              review sentiment\n",
       "0  One of the other reviewers has mentioned that ...  positive\n",
       "1  A wonderful little production. <br /><br />The...  positive\n",
       "2  I thought this was a wonderful way to spend ti...  positive\n",
       "3  Basically there's a family where a little boy ...  negative\n",
       "4  Petter Mattei's \"Love in the Time of Money\" is...  positive"
      ]
     },
     "execution_count": 50,
     "metadata": {},
     "output_type": "execute_result"
    }
   ],
   "source": [
    "df_movie.head()"
   ]
  },
  {
   "cell_type": "code",
   "execution_count": 52,
   "metadata": {},
   "outputs": [],
   "source": [
    "# function for plotting n-gram\n",
    "\n",
    "def plot_ngram(sentiment, n):\n",
    "    \n",
    "    temp_df = df_movie[df_movie['sentiment'] == sentiment]\n",
    "    \n",
    "    word_vectorizer = CountVectorizer(ngram_range=(n, n), analyzer='word')\n",
    "    sparse_matrix = word_vectorizer.fit_transform(temp_df['review'])\n",
    "    \n",
    "    frequencies = sum(sparse_matrix).toarray()[0]\n",
    "    \n",
    "    return pd.DataFrame(frequencies, index=word_vectorizer.get_feature_names(), columns=['frequency'])\\\n",
    "            .sort_values(by='frequency', ascending=False) \\\n",
    "            .reset_index() \\\n",
    "            .head(10)"
   ]
  },
  {
   "cell_type": "code",
   "execution_count": 53,
   "metadata": {},
   "outputs": [],
   "source": [
    "# plotting a wordcloud\n",
    "\n",
    "def plot_wordcloud(review, cmap):\n",
    "    fig, ax = plt.subplots(figsize=(8, 6))\n",
    "    wc = WordCloud(max_words = 1000, background_color ='white', stopwords = stopwords, \n",
    "                   min_font_size = 10, colormap=cmap)\n",
    "    wc = wc.generate(review)\n",
    "    plt.axis('off')\n",
    "    plt.imshow(wc)"
   ]
  },
  {
   "cell_type": "code",
   "execution_count": 54,
   "metadata": {},
   "outputs": [],
   "source": [
    "# to plot model accuracy and loss\n",
    "\n",
    "def plot_history(history):\n",
    "    \n",
    "    plt.figure(figsize=(20, 5))\n",
    "\n",
    "    plt.subplot(1, 2, 1)\n",
    "    plt.plot(history.history['accuracy'], label='Training Accuracy', c='green', lw='2')\n",
    "    plt.plot(history.history['val_accuracy'], label='Validation Accuracy', c='orangered', lw='2')\n",
    "    plt.title('Accuracy', loc='left', fontsize=16)\n",
    "    plt.xlabel(\"Epochs\")\n",
    "    plt.ylabel('Accuracy')\n",
    "    plt.legend()\n",
    "\n",
    "    plt.subplot(1, 2, 2)\n",
    "    plt.plot(history.history['loss'], label='Training Loss', c='green', lw='2')\n",
    "    plt.plot(history.history['val_loss'], label='Validation Loss', c='orangered', lw='2')\n",
    "    plt.title('Loss', loc='left', fontsize=16)\n",
    "    plt.xlabel(\"Epochs\")\n",
    "    plt.ylabel('Loss')\n",
    "    plt.legend()\n",
    "\n",
    "    plt.show()"
   ]
  },
  {
   "cell_type": "code",
   "execution_count": 55,
   "metadata": {},
   "outputs": [],
   "source": [
    "# to plot confusion matrix\n",
    "# ========================\n",
    "\n",
    "def plot_cm(pred, ticklabels, figsize):\n",
    "    \n",
    "    pred = pred.ravel()\n",
    "    pred = np.round(pred)\n",
    "      \n",
    "    fig, ax = plt.subplots(1, 1, figsize=(figsize, figsize))\n",
    "\n",
    "    cm = confusion_matrix(validation_labels, pred)\n",
    "    sns.heatmap(cm, annot=True, cbar=False, fmt='1d', cmap='Blues', ax=ax)\n",
    "\n",
    "    ax.set_xlabel('Predicted')\n",
    "    ax.set_ylabel('Actual')\n",
    "    ax.set_xticklabels(ticklabels)\n",
    "    ax.set_yticklabels(ticklabels, rotation=0)\n",
    "\n",
    "    plt.show()"
   ]
  },
  {
   "cell_type": "code",
   "execution_count": 56,
   "metadata": {},
   "outputs": [
    {
     "data": {
      "image/png": "[encoded data removed]",
      "text/plain": [
       "<Figure size 288x360 with 1 Axes>"
      ]
     },
     "metadata": {},
     "output_type": "display_data"
    }
   ],
   "source": [
    "sns.set_style('darkgrid')\n",
    "plt.figure(figsize=(4, 5))\n",
    "sns.countplot(df_movie['sentiment'], palette=['teal', 'orangered'])\n",
    "plt.title('No. of reviews in with each sentiment')\n",
    "plt.xlabel(\"\")\n",
    "plt.ylabel(\"\")\n",
    "plt.show()"
   ]
  },
  {
   "cell_type": "code",
   "execution_count": 58,
   "metadata": {},
   "outputs": [],
   "source": [
    "# Stopwords list from https://github.com/Yoast/YoastSEO.js/blob/develop/src/config/stopwords.js\n",
    "stopwords = [ \"a\", \"about\", \"above\", \"after\", \"again\", \"against\", \"all\", \"am\", \"an\", \"and\", \"any\", \"are\", \"as\", \"at\", \"be\", \"because\", \"been\", \"before\", \"being\", \"below\", \"between\", \"both\", \"but\", \"by\", \"could\", \"did\", \"do\", \"does\", \"doing\", \"down\", \"during\", \"each\", \"few\", \"for\", \"from\", \"further\", \"had\", \"has\", \"have\", \"having\", \"he\", \"he'd\", \"he'll\", \"he's\", \"her\", \"here\", \"here's\", \"hers\", \"herself\", \"him\", \"himself\", \"his\", \"how\", \"how's\", \"i\", \"i'd\", \"i'll\", \"i'm\", \"i've\", \"if\", \"in\", \"into\", \"is\", \"it\", \"it's\", \"its\", \"itself\", \"let's\", \"me\", \"more\", \"most\", \"my\", \"myself\", \"nor\", \"of\", \"on\", \"once\", \"only\", \"or\", \"other\", \"ought\", \"our\", \"ours\", \"ourselves\", \"out\", \"over\", \"own\", \"same\", \"she\", \"she'd\", \"she'll\", \"she's\", \"should\", \"so\", \"some\", \"such\", \"than\", \"that\", \"that's\", \"the\", \"their\", \"theirs\", \"them\", \"themselves\", \"then\", \"there\", \"there's\", \"these\", \"they\", \"they'd\", \"they'll\", \"they're\", \"they've\", \"this\", \"those\", \"through\", \"to\", \"too\", \"under\", \"until\", \"up\", \"very\", \"was\", \"we\", \"we'd\", \"we'll\", \"we're\", \"we've\", \"were\", \"what\", \"what's\", \"when\", \"when's\", \"where\", \"where's\", \"which\", \"while\", \"who\", \"who's\", \"whom\", \"why\", \"why's\", \"with\", \"would\", \"you\", \"you'd\", \"you'll\", \"you're\", \"you've\", \"your\", \"yours\", \"yourself\", \"yourselves\" ]\n",
    "\n",
    "# specific stopwords\n",
    "specific_sw = ['br', 'movie', 'film']\n",
    "\n",
    "# all stopwords\n",
    "stopwords = stopwords + specific_sw"
   ]
  },
  {
   "cell_type": "code",
   "execution_count": 60,
   "metadata": {},
   "outputs": [
    {
     "data": {
      "image/png": "[encoded data removed]",
      "text/plain": [
       "<Figure size 576x432 with 1 Axes>"
      ]
     },
     "metadata": {},
     "output_type": "display_data"
    }
   ],
   "source": [
    "# word cloud on positve reviews\n",
    "pos_rev = ' '.join(df_movie[df_movie['sentiment']=='positive']['review'].to_list()[:10000])\n",
    "plot_wordcloud(pos_rev, 'Blues')"
   ]
  },
  {
   "cell_type": "code",
   "execution_count": 61,
   "metadata": {},
   "outputs": [
    {
     "data": {
      "image/png": "[encoded data removed]",
      "text/plain": [
       "<Figure size 576x432 with 1 Axes>"
      ]
     },
     "metadata": {},
     "output_type": "display_data"
    }
   ],
   "source": [
    "# word cloud on positve reviews\n",
    "neg_rev = ' '.join(df_movie[df_movie['sentiment']=='negative']['review'].to_list()[:10000])\n",
    "plot_wordcloud(neg_rev, 'Reds')"
   ]
  },
  {
   "cell_type": "code",
   "execution_count": 62,
   "metadata": {},
   "outputs": [
    {
     "data": {
      "text/html": [
       "<div>\n",
       "<style scoped>\n",
       "    .dataframe tbody tr th:only-of-type {\n",
       "        vertical-align: middle;\n",
       "    }\n",
       "\n",
       "    .dataframe tbody tr th {\n",
       "        vertical-align: top;\n",
       "    }\n",
       "\n",
       "    .dataframe thead th {\n",
       "        text-align: right;\n",
       "    }\n",
       "</style>\n",
       "<table border=\"1\" class=\"dataframe\">\n",
       "  <thead>\n",
       "    <tr style=\"text-align: right;\">\n",
       "      <th></th>\n",
       "      <th>index</th>\n",
       "      <th>frequency</th>\n",
       "    </tr>\n",
       "  </thead>\n",
       "  <tbody>\n",
       "    <tr>\n",
       "      <td>0</td>\n",
       "      <td>the</td>\n",
       "      <td>341281</td>\n",
       "    </tr>\n",
       "    <tr>\n",
       "      <td>1</td>\n",
       "      <td>and</td>\n",
       "      <td>176634</td>\n",
       "    </tr>\n",
       "    <tr>\n",
       "      <td>2</td>\n",
       "      <td>of</td>\n",
       "      <td>152105</td>\n",
       "    </tr>\n",
       "    <tr>\n",
       "      <td>3</td>\n",
       "      <td>to</td>\n",
       "      <td>131322</td>\n",
       "    </tr>\n",
       "    <tr>\n",
       "      <td>4</td>\n",
       "      <td>is</td>\n",
       "      <td>111830</td>\n",
       "    </tr>\n",
       "    <tr>\n",
       "      <td>5</td>\n",
       "      <td>in</td>\n",
       "      <td>99250</td>\n",
       "    </tr>\n",
       "    <tr>\n",
       "      <td>6</td>\n",
       "      <td>br</td>\n",
       "      <td>97954</td>\n",
       "    </tr>\n",
       "    <tr>\n",
       "      <td>7</td>\n",
       "      <td>it</td>\n",
       "      <td>95133</td>\n",
       "    </tr>\n",
       "    <tr>\n",
       "      <td>8</td>\n",
       "      <td>this</td>\n",
       "      <td>69648</td>\n",
       "    </tr>\n",
       "    <tr>\n",
       "      <td>9</td>\n",
       "      <td>that</td>\n",
       "      <td>69593</td>\n",
       "    </tr>\n",
       "  </tbody>\n",
       "</table>\n",
       "</div>"
      ],
      "text/plain": [
       "  index  frequency\n",
       "0   the     341281\n",
       "1   and     176634\n",
       "2    of     152105\n",
       "3    to     131322\n",
       "4    is     111830\n",
       "5    in      99250\n",
       "6    br      97954\n",
       "7    it      95133\n",
       "8  this      69648\n",
       "9  that      69593"
      ]
     },
     "execution_count": 62,
     "metadata": {},
     "output_type": "execute_result"
    }
   ],
   "source": [
    "plot_ngram('positive', 1)"
   ]
  },
  {
   "cell_type": "code",
   "execution_count": 63,
   "metadata": {},
   "outputs": [
    {
     "data": {
      "text/html": [
       "<div>\n",
       "<style scoped>\n",
       "    .dataframe tbody tr th:only-of-type {\n",
       "        vertical-align: middle;\n",
       "    }\n",
       "\n",
       "    .dataframe tbody tr th {\n",
       "        vertical-align: top;\n",
       "    }\n",
       "\n",
       "    .dataframe thead th {\n",
       "        text-align: right;\n",
       "    }\n",
       "</style>\n",
       "<table border=\"1\" class=\"dataframe\">\n",
       "  <thead>\n",
       "    <tr style=\"text-align: right;\">\n",
       "      <th></th>\n",
       "      <th>index</th>\n",
       "      <th>frequency</th>\n",
       "    </tr>\n",
       "  </thead>\n",
       "  <tbody>\n",
       "    <tr>\n",
       "      <td>0</td>\n",
       "      <td>the</td>\n",
       "      <td>326712</td>\n",
       "    </tr>\n",
       "    <tr>\n",
       "      <td>1</td>\n",
       "      <td>and</td>\n",
       "      <td>147807</td>\n",
       "    </tr>\n",
       "    <tr>\n",
       "      <td>2</td>\n",
       "      <td>of</td>\n",
       "      <td>137305</td>\n",
       "    </tr>\n",
       "    <tr>\n",
       "      <td>3</td>\n",
       "      <td>to</td>\n",
       "      <td>136802</td>\n",
       "    </tr>\n",
       "    <tr>\n",
       "      <td>4</td>\n",
       "      <td>br</td>\n",
       "      <td>103997</td>\n",
       "    </tr>\n",
       "    <tr>\n",
       "      <td>5</td>\n",
       "      <td>is</td>\n",
       "      <td>99252</td>\n",
       "    </tr>\n",
       "    <tr>\n",
       "      <td>6</td>\n",
       "      <td>it</td>\n",
       "      <td>95724</td>\n",
       "    </tr>\n",
       "    <tr>\n",
       "      <td>7</td>\n",
       "      <td>in</td>\n",
       "      <td>87531</td>\n",
       "    </tr>\n",
       "    <tr>\n",
       "      <td>8</td>\n",
       "      <td>this</td>\n",
       "      <td>81354</td>\n",
       "    </tr>\n",
       "    <tr>\n",
       "      <td>9</td>\n",
       "      <td>that</td>\n",
       "      <td>74286</td>\n",
       "    </tr>\n",
       "  </tbody>\n",
       "</table>\n",
       "</div>"
      ],
      "text/plain": [
       "  index  frequency\n",
       "0   the     326712\n",
       "1   and     147807\n",
       "2    of     137305\n",
       "3    to     136802\n",
       "4    br     103997\n",
       "5    is      99252\n",
       "6    it      95724\n",
       "7    in      87531\n",
       "8  this      81354\n",
       "9  that      74286"
      ]
     },
     "execution_count": 63,
     "metadata": {},
     "output_type": "execute_result"
    }
   ],
   "source": [
    "plot_ngram('negative', 1)"
   ]
  },
  {
   "cell_type": "code",
   "execution_count": 64,
   "metadata": {},
   "outputs": [],
   "source": [
    "# to remove non alphanumeric character\n",
    "def alpha_num(text):\n",
    "    return re.sub(r'[^A-Za-z0-9 ]', '', text)\n",
    "\n",
    "# to remove the stopwords from text\n",
    "def remove_stopwords(text):\n",
    "    final_text = []\n",
    "    for i in text.split():\n",
    "        if i.strip().lower() not in stopwords:\n",
    "            final_text.append(i.strip())\n",
    "    return \" \".join(final_text)\n",
    "\n",
    "# to remove URLs\n",
    "def remove_URL(text):\n",
    "    url = re.compile(r'https?://\\S+|www\\.\\S+')\n",
    "    return url.sub(r'',text)\n",
    "\n",
    "# to remove html tags\n",
    "def remove_html(text):\n",
    "    html=re.compile(r'<.*?>')\n",
    "    return html.sub(r'',text)"
   ]
  },
  {
   "cell_type": "code",
   "execution_count": 65,
   "metadata": {},
   "outputs": [
    {
     "data": {
      "text/html": [
       "<div>\n",
       "<style scoped>\n",
       "    .dataframe tbody tr th:only-of-type {\n",
       "        vertical-align: middle;\n",
       "    }\n",
       "\n",
       "    .dataframe tbody tr th {\n",
       "        vertical-align: top;\n",
       "    }\n",
       "\n",
       "    .dataframe thead th {\n",
       "        text-align: right;\n",
       "    }\n",
       "</style>\n",
       "<table border=\"1\" class=\"dataframe\">\n",
       "  <thead>\n",
       "    <tr style=\"text-align: right;\">\n",
       "      <th></th>\n",
       "      <th>review</th>\n",
       "      <th>sentiment</th>\n",
       "    </tr>\n",
       "  </thead>\n",
       "  <tbody>\n",
       "    <tr>\n",
       "      <td>0</td>\n",
       "      <td>one reviewers mentioned watching just 1 oz epi...</td>\n",
       "      <td>positive</td>\n",
       "    </tr>\n",
       "    <tr>\n",
       "      <td>1</td>\n",
       "      <td>wonderful little production filming technique ...</td>\n",
       "      <td>positive</td>\n",
       "    </tr>\n",
       "    <tr>\n",
       "      <td>2</td>\n",
       "      <td>thought wonderful way spend time hot summer we...</td>\n",
       "      <td>positive</td>\n",
       "    </tr>\n",
       "    <tr>\n",
       "      <td>3</td>\n",
       "      <td>basically theres family little boy jake thinks...</td>\n",
       "      <td>negative</td>\n",
       "    </tr>\n",
       "    <tr>\n",
       "      <td>4</td>\n",
       "      <td>petter matteis love time money visually stunni...</td>\n",
       "      <td>positive</td>\n",
       "    </tr>\n",
       "  </tbody>\n",
       "</table>\n",
       "</div>"
      ],
      "text/plain": [
       "                                              review sentiment\n",
       "0  one reviewers mentioned watching just 1 oz epi...  positive\n",
       "1  wonderful little production filming technique ...  positive\n",
       "2  thought wonderful way spend time hot summer we...  positive\n",
       "3  basically theres family little boy jake thinks...  negative\n",
       "4  petter matteis love time money visually stunni...  positive"
      ]
     },
     "execution_count": 65,
     "metadata": {},
     "output_type": "execute_result"
    }
   ],
   "source": [
    "# apply preprocessing steps\n",
    "\n",
    "df_movie['review'] = df_movie['review'].apply(remove_URL)\n",
    "df_movie['review'] = df_movie['review'].apply(remove_html)\n",
    "df_movie['review'] = df_movie['review'].str.lower()\n",
    "df_movie['review'] = df_movie['review'].apply(alpha_num)\n",
    "df_movie['review'] = df_movie['review'].apply(remove_stopwords)\n",
    "\n",
    "df_movie.head()"
   ]
  },
  {
   "cell_type": "code",
   "execution_count": 66,
   "metadata": {},
   "outputs": [],
   "source": [
    "# container for sentences\n",
    "reviews = np.array([review for review in df_movie['review']])\n",
    "\n",
    "# container for labels\n",
    "labels = np.array([label for label in df_movie['sentiment']])"
   ]
  },
  {
   "cell_type": "code",
   "execution_count": 67,
   "metadata": {},
   "outputs": [
    {
     "name": "stdout",
     "output_type": "stream",
     "text": [
      "['negative' 'positive']\n",
      "['positive' 'positive' 'positive' 'negative' 'positive']\n",
      "[1 1 1 0 1]\n"
     ]
    }
   ],
   "source": [
    "# label encoding labels \n",
    "\n",
    "enc = LabelEncoder()\n",
    "encoded_labels = enc.fit_transform(labels)\n",
    "\n",
    "print(enc.classes_)\n",
    "print(labels[:5])\n",
    "print(encoded_labels[:5])"
   ]
  },
  {
   "cell_type": "code",
   "execution_count": 68,
   "metadata": {},
   "outputs": [],
   "source": [
    "train_sentences, validation_sentences, train_labels, validation_labels = train_test_split(reviews, encoded_labels, \n",
    "                                                                                          test_size=0.33, \n",
    "                                                                                          stratify=labels)"
   ]
  },
  {
   "cell_type": "code",
   "execution_count": 69,
   "metadata": {},
   "outputs": [
    {
     "name": "stdout",
     "output_type": "stream",
     "text": [
      "Total Unique Words : 171782\n"
     ]
    }
   ],
   "source": [
    "tokenizer = Tokenizer(num_words=10000,oov_token='<OOV>')\n",
    "tokenizer.fit_on_texts(train_sentences)\n",
    "word_index = tokenizer.word_index\n",
    "training_sequence = tokenizer.texts_to_sequences(train_sentences)\n",
    "testing_sequence = tokenizer.texts_to_sequences(validation_sentences)\n",
    "train_pad_sequence = pad_sequences(training_sequence,maxlen = 200,truncating= 'post',padding = 'pre')\n",
    "test_pad_sequence = pad_sequences(testing_sequence,maxlen = 200,truncating= 'post',padding = 'pre')\n",
    "print('Total Unique Words : {}'.format(len(word_index)))"
   ]
  },
  {
   "cell_type": "code",
   "execution_count": 70,
   "metadata": {},
   "outputs": [],
   "source": [
    "embedded_words = {}\n",
    "with open('Data/glove.6B.200d.txt') as file:\n",
    "    for line in file:\n",
    "        words, coeff = line.split(maxsplit=1)\n",
    "        coeff = np.array(coeff.split(),dtype = float)\n",
    "        embedded_words[words] = coeff"
   ]
  },
  {
   "cell_type": "code",
   "execution_count": 71,
   "metadata": {},
   "outputs": [],
   "source": [
    "embedding_matrix = np.zeros((len(word_index) + 1,200))\n",
    "for word, i in word_index.items():\n",
    "    embedding_vector = embedded_words.get(word)\n",
    "    if embedding_vector is not None:\n",
    "        embedding_matrix[i] = embedding_vector"
   ]
  },
  {
   "cell_type": "code",
   "execution_count": 72,
   "metadata": {},
   "outputs": [],
   "source": [
    "model_lstm = tf.keras.Sequential([tf.keras.layers.Embedding(len(word_index) + 1,200,weights=[embedding_matrix],input_length=200,\n",
    "                            trainable=False),\n",
    "                             tf.keras.layers.Bidirectional(tf.keras.layers.LSTM(64)),\n",
    "                             tf.keras.layers.Dropout(0.2),\n",
    "                             tf.keras.layers.Dense(24,activation = 'relu',),  \n",
    "                             tf.keras.layers.Dense(1,activation = tf.nn.sigmoid)])"
   ]
  },
  {
   "cell_type": "code",
   "execution_count": 73,
   "metadata": {},
   "outputs": [
    {
     "name": "stdout",
     "output_type": "stream",
     "text": [
      "Model: \"sequential_1\"\n",
      "_________________________________________________________________\n",
      "Layer (type)                 Output Shape              Param #   \n",
      "=================================================================\n",
      "embedding (Embedding)        (None, 200, 200)          34356600  \n",
      "_________________________________________________________________\n",
      "bidirectional (Bidirectional (None, 128)               135680    \n",
      "_________________________________________________________________\n",
      "dropout (Dropout)            (None, 128)               0         \n",
      "_________________________________________________________________\n",
      "dense_3 (Dense)              (None, 24)                3096      \n",
      "_________________________________________________________________\n",
      "dense_4 (Dense)              (None, 1)                 25        \n",
      "=================================================================\n",
      "Total params: 34,495,401\n",
      "Trainable params: 138,801\n",
      "Non-trainable params: 34,356,600\n",
      "_________________________________________________________________\n"
     ]
    }
   ],
   "source": [
    "model_lstm.summary()"
   ]
  },
  {
   "cell_type": "code",
   "execution_count": 74,
   "metadata": {},
   "outputs": [
    {
     "name": "stdout",
     "output_type": "stream",
     "text": [
      "Epoch 1/30\n",
      "1047/1047 [==============================] - 311s 297ms/step - loss: 0.4401 - accuracy: 0.7948 - val_loss: 0.3569 - val_accuracy: 0.8462\n",
      "Epoch 2/30\n",
      "1047/1047 [==============================] - 308s 294ms/step - loss: 0.3360 - accuracy: 0.8554 - val_loss: 0.3851 - val_accuracy: 0.8299\n",
      "Epoch 3/30\n",
      "1047/1047 [==============================] - 300s 286ms/step - loss: 0.2945 - accuracy: 0.8762 - val_loss: 0.3070 - val_accuracy: 0.8695\n",
      "Epoch 4/30\n",
      "1047/1047 [==============================] - 300s 287ms/step - loss: 0.2674 - accuracy: 0.8876 - val_loss: 0.2983 - val_accuracy: 0.8721\n",
      "Epoch 5/30\n",
      "1047/1047 [==============================] - 300s 287ms/step - loss: 0.2358 - accuracy: 0.9026 - val_loss: 0.2929 - val_accuracy: 0.8839\n",
      "Epoch 6/30\n",
      "1047/1047 [==============================] - 300s 287ms/step - loss: 0.2065 - accuracy: 0.9159 - val_loss: 0.3034 - val_accuracy: 0.8800\n",
      "Epoch 7/30\n",
      "1047/1047 [==============================] - 296s 283ms/step - loss: 0.1799 - accuracy: 0.9287 - val_loss: 0.3407 - val_accuracy: 0.8738\n",
      "Epoch 8/30\n",
      "1047/1047 [==============================] - 274s 262ms/step - loss: 0.1518 - accuracy: 0.9401 - val_loss: 0.3460 - val_accuracy: 0.8792\n",
      "Epoch 9/30\n",
      "1047/1047 [==============================] - 270s 258ms/step - loss: 0.1242 - accuracy: 0.9516 - val_loss: 0.3740 - val_accuracy: 0.8723\n",
      "Epoch 10/30\n",
      "1047/1047 [==============================] - 267s 255ms/step - loss: 0.1075 - accuracy: 0.9608 - val_loss: 0.4710 - val_accuracy: 0.8458\n",
      "Epoch 11/30\n",
      "1047/1047 [==============================] - 267s 255ms/step - loss: 0.0915 - accuracy: 0.9666 - val_loss: 0.4579 - val_accuracy: 0.8775\n",
      "Epoch 12/30\n",
      "1047/1047 [==============================] - 266s 255ms/step - loss: 0.0770 - accuracy: 0.9717 - val_loss: 0.4704 - val_accuracy: 0.8718\n",
      "Epoch 13/30\n",
      "1047/1047 [==============================] - 269s 257ms/step - loss: 0.0644 - accuracy: 0.9764 - val_loss: 0.5167 - val_accuracy: 0.8702\n",
      "Epoch 14/30\n",
      "1047/1047 [==============================] - 282s 269ms/step - loss: 0.0570 - accuracy: 0.9794 - val_loss: 0.5228 - val_accuracy: 0.8716\n",
      "Epoch 15/30\n",
      "1047/1047 [==============================] - 270s 257ms/step - loss: 0.0535 - accuracy: 0.9812 - val_loss: 0.5971 - val_accuracy: 0.8700\n",
      "Epoch 16/30\n",
      "1047/1047 [==============================] - 270s 257ms/step - loss: 0.0456 - accuracy: 0.9839 - val_loss: 0.6190 - val_accuracy: 0.8767\n",
      "Epoch 17/30\n",
      "1047/1047 [==============================] - 268s 256ms/step - loss: 0.0395 - accuracy: 0.9855 - val_loss: 0.6904 - val_accuracy: 0.8662\n",
      "Epoch 18/30\n",
      "1047/1047 [==============================] - 267s 255ms/step - loss: 0.0361 - accuracy: 0.9871 - val_loss: 0.6694 - val_accuracy: 0.8715\n",
      "Epoch 19/30\n",
      "1047/1047 [==============================] - 267s 255ms/step - loss: 0.0322 - accuracy: 0.9883 - val_loss: 0.7036 - val_accuracy: 0.8713\n",
      "Epoch 20/30\n",
      "1047/1047 [==============================] - 267s 255ms/step - loss: 0.0372 - accuracy: 0.9863 - val_loss: 0.6684 - val_accuracy: 0.8742\n",
      "Epoch 21/30\n",
      "1047/1047 [==============================] - 268s 256ms/step - loss: 0.0264 - accuracy: 0.9903 - val_loss: 0.6704 - val_accuracy: 0.8615\n",
      "Epoch 22/30\n",
      "1047/1047 [==============================] - 267s 255ms/step - loss: 0.0327 - accuracy: 0.9886 - val_loss: 0.7419 - val_accuracy: 0.8676\n",
      "Epoch 23/30\n",
      "1047/1047 [==============================] - 268s 256ms/step - loss: 0.0213 - accuracy: 0.9932 - val_loss: 0.8007 - val_accuracy: 0.8720\n",
      "Epoch 24/30\n",
      "1047/1047 [==============================] - 268s 256ms/step - loss: 0.0333 - accuracy: 0.9887 - val_loss: 0.7117 - val_accuracy: 0.8686\n",
      "Epoch 25/30\n",
      "1047/1047 [==============================] - 271s 259ms/step - loss: 0.0183 - accuracy: 0.9938 - val_loss: 0.8400 - val_accuracy: 0.8690\n",
      "Epoch 26/30\n",
      "1047/1047 [==============================] - 273s 261ms/step - loss: 0.0227 - accuracy: 0.9923 - val_loss: 0.7693 - val_accuracy: 0.8673\n",
      "Epoch 27/30\n",
      "1047/1047 [==============================] - 272s 259ms/step - loss: 0.0221 - accuracy: 0.9924 - val_loss: 0.7725 - val_accuracy: 0.8691\n",
      "Epoch 28/30\n",
      "1047/1047 [==============================] - 276s 263ms/step - loss: 0.0185 - accuracy: 0.9940 - val_loss: 0.7615 - val_accuracy: 0.8639\n",
      "Epoch 29/30\n",
      "1047/1047 [==============================] - 276s 263ms/step - loss: 0.0202 - accuracy: 0.9927 - val_loss: 0.8235 - val_accuracy: 0.8742\n",
      "Epoch 30/30\n",
      "1047/1047 [==============================] - 277s 264ms/step - loss: 0.0214 - accuracy: 0.9930 - val_loss: 0.8314 - val_accuracy: 0.8758\n"
     ]
    }
   ],
   "source": [
    "model_lstm.compile(loss = tf.keras.losses.BinaryCrossentropy() , optimizer='Adam' , metrics = 'accuracy')\n",
    "history = model_lstm.fit(train_pad_sequence,train_labels,epochs = 30 ,validation_data=(test_pad_sequence,validation_labels))"
   ]
  },
  {
   "cell_type": "code",
   "execution_count": 75,
   "metadata": {},
   "outputs": [
    {
     "data": {
      "image/png": "[encoded data removed]",
      "text/plain": [
       "<Figure size 432x288 with 1 Axes>"
      ]
     },
     "metadata": {},
     "output_type": "display_data"
    },
    {
     "data": {
      "image/png": "[encoded data removed]",
      "text/plain": [
       "<Figure size 432x288 with 1 Axes>"
      ]
     },
     "metadata": {},
     "output_type": "display_data"
    }
   ],
   "source": [
    "acc = history.history['accuracy']\n",
    "val_acc = history.history['val_accuracy']\n",
    "loss = history.history['loss']\n",
    "val_loss = history.history['val_loss']\n",
    "epochs = range(len(acc))\n",
    "\n",
    "plt.plot(epochs, acc, 'r', label='Training accuracy')\n",
    "plt.plot(epochs, val_acc, 'b', label='Validation accuracy')\n",
    "plt.title('Training and validation accuracy')\n",
    "plt.legend(loc=0)\n",
    "plt.figure()\n",
    "\n",
    "plt.plot(epochs, loss, 'r', label='Training loss')\n",
    "plt.plot(epochs, val_loss, 'b', label='Validation loss')\n",
    "plt.title('Training and validation loss')\n",
    "plt.legend(loc=0)\n",
    "\n",
    "plt.show()"
   ]
  },
  {
   "cell_type": "code",
   "execution_count": 76,
   "metadata": {},
   "outputs": [
    {
     "name": "stdout",
     "output_type": "stream",
     "text": [
      "Training Accuracy: 0.9940000176429749\n",
      "Validation Accuracy: 0.8839393854141235\n"
     ]
    }
   ],
   "source": [
    "print('Training Accuracy: {}'.format(max(acc)))\n",
    "print('Validation Accuracy: {}'.format(max(val_acc)))"
   ]
  },
  {
   "cell_type": "markdown",
   "metadata": {},
   "source": [
    "## Conclusion"
   ]
  },
  {
   "cell_type": "markdown",
   "metadata": {},
   "source": [
    "#### In above project we tried to Analyse IMDB Movie Rating Using different Deep Neural Network Models (ANN + DNN {BiLSTM})"
   ]
  },
  {
   "cell_type": "markdown",
   "metadata": {},
   "source": [
    " "
   ]
  },
  {
   "cell_type": "markdown",
   "metadata": {},
   "source": [
    "##### Initially we imported IMDB Movie Review Database to check count values of nature of  review wheater it is positive or negetive.\n",
    "\n",
    "##### And then we cleaned the data by eliminatating stopwords , html tags and numerical characters from reviews. To effectively process the strings in models.\n",
    "\n",
    "##### After pre-processing of reviews and cleaning the text. we have checked weather senitment is positive or negetive.\n",
    "\n",
    "##### We use TFIDF (Term Frequency - Inverse Document Frequency) Transformer to transform the review text to check the frequency of text. If frequency is greater then 0.5 its positive else negetive.\n",
    "\n",
    "##### We also use Glove text file to obtain vector representation of words and to train the model better.\n",
    "\n",
    "##### We compared two types of Neural Networks (ANN and DNN) respectively to get which model will give us more accuracy. \n",
    "\n",
    "##### And we found that DNN with BiLSTM gave us Accuracy of 99% and validation accuracy of 88.39%"
   ]
  },
  {
   "cell_type": "code",
   "execution_count": null,
   "metadata": {},
   "outputs": [],
   "source": []
  }
 ],
 "metadata": {
  "kernelspec": {
   "display_name": "Python [conda env:learn-env] *",
   "language": "python",
   "name": "conda-env-learn-env-py"
  },
  "language_info": {
   "codemirror_mode": {
    "name": "ipython",
    "version": 3
   },
   "file_extension": ".py",
   "mimetype": "text/x-python",
   "name": "python",
   "nbconvert_exporter": "python",
   "pygments_lexer": "ipython3",
   "version": "3.6.9"
  }
 },
 "nbformat": 4,
 "nbformat_minor": 2
}
